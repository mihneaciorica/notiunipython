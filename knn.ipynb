{
 "cells": [],
 "metadata": {
  "kernelspec": {
   "display_name": "Python 3",
   "language": "python",
   "name": "python3"
  },
  "language_info": {
   "codemirror_mode": {
    "name": "ipython",
    "version": 2
   },
   "file_extension": ".py",
   "mimetype": "text/x-python",
   "name": "python",
   "nbconvert_exporter": "python",
   "pygments_lexer": "ipython2",
   "version": "2.7.6"
  },
  "pycharm": {
   "stem_cell": {
    "cell_type": "raw",
    "source": [
     "\n",
     "\n",
     "# Import KNeighborsClassifier from sklearn.neighbors\n",
     "from sklearn.neighbors import KNeighborsClassifier \n",
     "\n",
     "# Create arrays for the features and the response variable\n",
     "y = df['party'].values\n",
     "\n",
     "X = df.drop(['party'],axis=1).values\n",
     "\n",
     "# Create a k-NN classifier with 6 neighbors: knn\n",
     "knn = KNeighborsClassifier(n_neighbors=6)\n",
     "\n",
     "# Fit the classifier to the data\n",
     "knn.fit(X,y)\n",
     "\n",
     "# Predict the labels for the training data X\n",
     "y_pred = knn.predict(X)\n",
     "\n",
     "# Predict and print the label for the new data point X_new\n",
     "new_prediction = knn.predict(X_new)\n",
     "print(\"Prediction: {}\".format(new_prediction))\n",
     "\n",
     "\n"
    ],
    "metadata": {
     "collapsed": false
    }
   }
  }
 },
 "nbformat": 4,
 "nbformat_minor": 0
}